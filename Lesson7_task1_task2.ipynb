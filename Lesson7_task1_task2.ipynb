{
 "cells": [
  {
   "cell_type": "markdown",
   "metadata": {},
   "source": [
    "Даны значения величины заработной платы заемщиков банка (zp) и значения их поведенческого кредитного скоринга (ks): zp = [35, 45, 190, 200, 40, 70, 54, 150, 120, 110], ks = [401, 574, 874, 919, 459, 739, 653, 902, 746, 832]. Используя математические операции, посчитать коэффициенты линейной регрессии, приняв за X заработную плату (то есть, zp - признак), а за y - значения скорингового балла (то есть, ks - целевая переменная). Произвести расчет как с использованием intercept, так и без."
   ]
  },
  {
   "cell_type": "code",
   "execution_count": 1,
   "metadata": {},
   "outputs": [],
   "source": [
    "import numpy as np\n",
    "import seaborn as sns\n",
    "\n",
    "X = np.array([35, 45, 190, 200, 40, 70, 54, 150, 120, 110]) #zp\n",
    "Y = np.array([401, 574, 874, 919, 459, 739, 653, 902, 746, 832]) #ks\n",
    "\n"
   ]
  },
  {
   "cell_type": "code",
   "execution_count": 2,
   "metadata": {},
   "outputs": [
    {
     "data": {
      "text/plain": [
       "array([ 35,  45, 190, 200,  40,  70,  54, 150, 120, 110])"
      ]
     },
     "execution_count": 2,
     "metadata": {},
     "output_type": "execute_result"
    }
   ],
   "source": [
    "\n",
    "x = X.reshape((10,1))\n",
    "X\n"
   ]
  },
  {
   "cell_type": "code",
   "execution_count": 3,
   "metadata": {},
   "outputs": [
    {
     "data": {
      "text/plain": [
       "array([401, 574, 874, 919, 459, 739, 653, 902, 746, 832])"
      ]
     },
     "execution_count": 3,
     "metadata": {},
     "output_type": "execute_result"
    }
   ],
   "source": [
    "  \n",
    "y = Y.reshape((10,1))\n",
    "Y"
   ]
  },
  {
   "cell_type": "code",
   "execution_count": 4,
   "metadata": {},
   "outputs": [
    {
     "data": {
      "text/plain": [
       "array([[  1.,  35.],\n",
       "       [  1.,  45.],\n",
       "       [  1., 190.],\n",
       "       [  1., 200.],\n",
       "       [  1.,  40.],\n",
       "       [  1.,  70.],\n",
       "       [  1.,  54.],\n",
       "       [  1., 150.],\n",
       "       [  1., 120.],\n",
       "       [  1., 110.]])"
      ]
     },
     "execution_count": 4,
     "metadata": {},
     "output_type": "execute_result"
    }
   ],
   "source": [
    "#c использованием интерсепт\n",
    "x = np.hstack([np.ones((10,1)),x])\n",
    "x"
   ]
  },
  {
   "cell_type": "code",
   "execution_count": 5,
   "metadata": {},
   "outputs": [
    {
     "data": {
      "text/plain": [
       "array([[444.17735732],\n",
       "       [  2.62053888]])"
      ]
     },
     "execution_count": 5,
     "metadata": {},
     "output_type": "execute_result"
    }
   ],
   "source": [
    "B = np.dot(np.linalg.inv(np.dot(x.T,x)),x.T@y)\n",
    "B"
   ]
  },
  {
   "cell_type": "code",
   "execution_count": 6,
   "metadata": {},
   "outputs": [
    {
     "data": {
      "text/plain": [
       "array([[ 35],\n",
       "       [ 45],\n",
       "       [190],\n",
       "       [200],\n",
       "       [ 40],\n",
       "       [ 70],\n",
       "       [ 54],\n",
       "       [150],\n",
       "       [120],\n",
       "       [110]])"
      ]
     },
     "execution_count": 6,
     "metadata": {},
     "output_type": "execute_result"
    }
   ],
   "source": [
    "#без использования интерсепт\n",
    "x = X.reshape((10,1))\n",
    "x"
   ]
  },
  {
   "cell_type": "code",
   "execution_count": 7,
   "metadata": {},
   "outputs": [
    {
     "data": {
      "text/plain": [
       "array([[5.88982042]])"
      ]
     },
     "execution_count": 7,
     "metadata": {},
     "output_type": "execute_result"
    }
   ],
   "source": [
    "B = np.dot(np.linalg.inv(np.dot(x.T,x)),x.T@y)\n",
    "B"
   ]
  },
  {
   "cell_type": "markdown",
   "metadata": {},
   "source": [
    "Посчитать коэффициент линейной регрессии при заработной плате (zp), используя градиентный спуск (без intercept)."
   ]
  },
  {
   "cell_type": "code",
   "execution_count": 35,
   "metadata": {},
   "outputs": [
    {
     "name": "stdout",
     "output_type": "stream",
     "text": [
      "1e-06 0.1 10\n",
      "Iteration 0, B1 = 0.25952808, mse 493237.7212546963\n",
      "Iteration 100, B1 = 5.54537842245223, mse 58151.31823171113\n",
      "Iteration 200, B1 = 5.868748638669329, mse 56522.97550129376\n",
      "Iteration 300, B1 = 5.888531320728348, mse 56516.88130936019\n",
      "Iteration 400, B1 = 5.8897415574471985, mse 56516.85850140053\n",
      "Iteration 500, B1 = 5.889815595583751, mse 56516.858416040064\n",
      "Iteration 600, B1 = 5.889820124983314, mse 56516.85841572062\n",
      "Iteration 700, B1 = 5.889820402076462, mse 56516.85841571941\n",
      "Iteration 800, B1 = 5.88982041902807, mse 56516.8584157194\n",
      "Iteration 900, B1 = 5.889820420065112, mse 56516.85841571941\n",
      "Iteration 0, B1 = 1.1347302, mse 368017.9491755833\n",
      "Iteration 100, B1 = 5.598920289974488, mse 57682.67406321302\n",
      "Iteration 200, B1 = 5.872024146706, mse 56521.22156616817\n",
      "Iteration 300, B1 = 5.8887317050891275, mse 56516.874745129535\n",
      "Iteration 400, B1 = 5.8897538162759355, mse 56516.858476833426\n",
      "Iteration 500, B1 = 5.8898163455368975, mse 56516.85841594815\n",
      "Iteration 600, B1 = 5.889820170862877, mse 56516.85841572027\n",
      "Iteration 700, B1 = 5.889820404883214, mse 56516.85841571941\n",
      "Iteration 800, B1 = 5.889820419199778, mse 56516.8584157194\n",
      "Iteration 900, B1 = 5.889820420075618, mse 56516.85841571941\n"
     ]
    }
   ],
   "source": [
    "def mse_(B1,y = Y,x = X, n = 10 ):\n",
    "    return np.sum((B1*X-y)**2)/n\n",
    "\n",
    "alfa, B1,n = 1e-6, 0.1,10\n",
    "\n",
    "print(f\"{alfa} {B1} {n}\")\n",
    "\n",
    "\n",
    "for i in range(1000):\n",
    "    B1-=alfa*(2/n)*np.sum((B1*X-Y)*X)\n",
    "   \n",
    "    if i%100==0:\n",
    "        print(f\"Iteration {i}, B1 = {B1}, mse {mse_(B1)}\")\n",
    "        \n"
   ]
  },
  {
   "cell_type": "code",
   "execution_count": 37,
   "metadata": {},
   "outputs": [
    {
     "name": "stdout",
     "output_type": "stream",
     "text": [
      "104.32540042334865 5.325400423349019\n"
     ]
    }
   ],
   "source": []
  },
  {
   "cell_type": "code",
   "execution_count": null,
   "metadata": {},
   "outputs": [],
   "source": []
  }
 ],
 "metadata": {
  "kernelspec": {
   "display_name": "Python 3",
   "language": "python",
   "name": "python3"
  },
  "language_info": {
   "codemirror_mode": {
    "name": "ipython",
    "version": 3
   },
   "file_extension": ".py",
   "mimetype": "text/x-python",
   "name": "python",
   "nbconvert_exporter": "python",
   "pygments_lexer": "ipython3",
   "version": "3.7.6"
  }
 },
 "nbformat": 4,
 "nbformat_minor": 4
}
