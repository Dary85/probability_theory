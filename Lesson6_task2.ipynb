{
 "cells": [
  {
   "cell_type": "markdown",
   "metadata": {},
   "source": [
    "Измерены значения IQ выборки студентов,\n",
    "обучающихся в местных технических вузах:\n",
    "131, 125, 115, 122, 131, 115, 107, 99, 125, 111.\n",
    "Известно, что в генеральной совокупности IQ распределен нормально.\n",
    "Найдите доверительный интервал для математического ожидания с надежностью 0.95"
   ]
  },
  {
   "cell_type": "code",
   "execution_count": 2,
   "metadata": {},
   "outputs": [
    {
     "name": "stdout",
     "output_type": "stream",
     "text": [
      "доверительный интервал :(110.56327742907362;125.63672257092637)\n"
     ]
    }
   ],
   "source": [
    "import numpy as np\n",
    "from math import sqrt \n",
    "\n",
    "x = [131, 125, 115, 122, 131, 115, 107, 99, 125, 111]\n",
    "\n",
    "M = np.mean(x) #  среднее выборочное\n",
    "\n",
    "std_x = sqrt(sum([(i-M)**2 for i in x ])/9) #среднеквадратичное отклонение \n",
    "\n",
    "# коэф.стьюдента = 2,26, n = 10\n",
    "\n",
    "t1 = M-2.26*std_x/sqrt(10)\n",
    "t2 = M+2.26*std_x/sqrt(10)\n",
    "\n",
    "print(f\"доверительный интервал :({t1};{t2})\")\n",
    "\n"
   ]
  },
  {
   "cell_type": "code",
   "execution_count": 3,
   "metadata": {},
   "outputs": [
    {
     "data": {
      "text/plain": [
       "(110.55608365158724, 125.64391634841274)"
      ]
     },
     "execution_count": 3,
     "metadata": {},
     "output_type": "execute_result"
    }
   ],
   "source": [
    "import scipy.stats as st #вариант с использованием библиотеки scipy.stats\n",
    "\n",
    "st.t.interval(0.95, len(x)-1, loc=np.mean(x), scale=st.sem(x))"
   ]
  },
  {
   "cell_type": "code",
   "execution_count": null,
   "metadata": {},
   "outputs": [],
   "source": []
  }
 ],
 "metadata": {
  "kernelspec": {
   "display_name": "Python 3",
   "language": "python",
   "name": "python3"
  },
  "language_info": {
   "codemirror_mode": {
    "name": "ipython",
    "version": 3
   },
   "file_extension": ".py",
   "mimetype": "text/x-python",
   "name": "python",
   "nbconvert_exporter": "python",
   "pygments_lexer": "ipython3",
   "version": "3.7.6"
  }
 },
 "nbformat": 4,
 "nbformat_minor": 4
}
