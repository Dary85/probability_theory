{
 "cells": [
  {
   "cell_type": "markdown",
   "metadata": {},
   "source": [
    "Даны значения величины заработной платы заемщиков банка (zp) и значения их поведенческого кредитного скоринга (ks):\n",
    "zp = [35, 45, 190, 200, 40, 70, 54, 150, 120, 110],\n",
    "ks = [401, 574, 874, 919, 459, 739, 653, 902, 746, 832].\n",
    "Найдите ковариацию этих двух величин с помощью элементарных действий, а затем с помощью функции cov из numpy\n",
    "Полученные значения должны быть равны.\n",
    "Найдите коэффициент корреляции Пирсона с помощью ковариации и среднеквадратичных отклонений двух признаков,\n",
    "а затем с использованием функций из библиотек numpy и pandas."
   ]
  },
  {
   "cell_type": "code",
   "execution_count": 1,
   "metadata": {},
   "outputs": [],
   "source": [
    "import numpy as np\n",
    "\n",
    "zp = [35, 45, 190, 200, 40, 70, 54, 150, 120, 110]\n",
    "ks = [401, 574, 874, 919, 459, 739, 653, 902, 746, 832]\n"
   ]
  },
  {
   "cell_type": "code",
   "execution_count": 2,
   "metadata": {},
   "outputs": [
    {
     "name": "stdout",
     "output_type": "stream",
     "text": [
      " с помощью элементарных действий: 10175.377777777778\n",
      "[[ 3882.93333333 10175.37777778]\n",
      " [10175.37777778 33854.32222222]]\n",
      "c помощью функции cov: 10175.377777777776\n"
     ]
    }
   ],
   "source": [
    "# Найдите ковариацию этих двух величин с помощью элементарных действий\n",
    "\n",
    "cov_zp_kz = sum((zp[i]-np.mean(zp))*(ks[i]-np.mean(ks)) for i in range(len(ks)))/9\n",
    "\n",
    "print(f\" с помощью элементарных действий: {cov_zp_kz}\")\n",
    "\n",
    "# а затем с помощью функции cov из numpy\n",
    "# Полученные значения должны быть равны.\n",
    "\n",
    "cov_mat = np.stack((zp, ks), axis = 0) \n",
    "\n",
    "arr = np.cov(cov_mat) #функция возвращает матрицу, т.к. нужна ковариация двух величин возьмем в качестве ответа cov(zp, ks) = arr(1,0) или arr(0,1)\n",
    "print(arr)\n",
    "print(f\"c помощью функции cov: {arr[0,1]}\") #"
   ]
  },
  {
   "cell_type": "code",
   "execution_count": 3,
   "metadata": {},
   "outputs": [
    {
     "name": "stdout",
     "output_type": "stream",
     "text": [
      "коэффициент корреляции Пирсона 0.8874900920739162\n",
      "коэффициент корреляции Пирсона с использованием библиотеки numpy:\n"
     ]
    },
    {
     "data": {
      "text/plain": [
       "array([[1.        , 0.88749009],\n",
       "       [0.88749009, 1.        ]])"
      ]
     },
     "execution_count": 3,
     "metadata": {},
     "output_type": "execute_result"
    }
   ],
   "source": [
    "# Найдите коэффициент корреляции Пирсона с помощью ковариации и среднеквадратичных отклонений двух признаков,\n",
    "from math import sqrt\n",
    "\n",
    "#расчет среднеквадратичного отклонения от не смещенной дисперсии, функция std библиотеки numpy считает от смещенной дисперсии\n",
    "std_zp = sqrt(sum([(i-np.mean(zp))**2 for i in zp ])/9)\n",
    "std_ks = sqrt(sum([(i-np.mean(ks))**2 for i in ks ])/9)\n",
    "\n",
    "#расчет коэф. корреляции Пирсона\n",
    "r = cov_zp_kz/(std_zp*std_ks)\n",
    "\n",
    "print(f\"коэффициент корреляции Пирсона {r}\")\n",
    "\n",
    "# а затем с использованием функций из библиотек numpy \n",
    "\n",
    "print(f\"коэффициент корреляции Пирсона с использованием библиотеки numpy:\")\n",
    "np.corrcoef(zp, ks)\n",
    "\n"
   ]
  },
  {
   "cell_type": "code",
   "execution_count": 4,
   "metadata": {},
   "outputs": [
    {
     "data": {
      "text/html": [
       "<div>\n",
       "<style scoped>\n",
       "    .dataframe tbody tr th:only-of-type {\n",
       "        vertical-align: middle;\n",
       "    }\n",
       "\n",
       "    .dataframe tbody tr th {\n",
       "        vertical-align: top;\n",
       "    }\n",
       "\n",
       "    .dataframe thead th {\n",
       "        text-align: right;\n",
       "    }\n",
       "</style>\n",
       "<table border=\"1\" class=\"dataframe\">\n",
       "  <thead>\n",
       "    <tr style=\"text-align: right;\">\n",
       "      <th></th>\n",
       "      <th>zp</th>\n",
       "      <th>ks</th>\n",
       "    </tr>\n",
       "  </thead>\n",
       "  <tbody>\n",
       "    <tr>\n",
       "      <th>zp</th>\n",
       "      <td>1.00000</td>\n",
       "      <td>0.88749</td>\n",
       "    </tr>\n",
       "    <tr>\n",
       "      <th>ks</th>\n",
       "      <td>0.88749</td>\n",
       "      <td>1.00000</td>\n",
       "    </tr>\n",
       "  </tbody>\n",
       "</table>\n",
       "</div>"
      ],
      "text/plain": [
       "         zp       ks\n",
       "zp  1.00000  0.88749\n",
       "ks  0.88749  1.00000"
      ]
     },
     "execution_count": 4,
     "metadata": {},
     "output_type": "execute_result"
    }
   ],
   "source": [
    "# коэффициент корреляции Пирсона с использованием функций из библиотек pandas.\n",
    "import pandas as pd\n",
    "\n",
    "dict_zp_ks = {\"zp\":pd.Series([35, 45, 190, 200, 40, 70, 54, 150, 120, 110]),\n",
    "              \"ks\":pd.Series([401, 574, 874, 919, 459, 739, 653, 902, 746, 832])}\n",
    "\n",
    "df = pd.DataFrame(dict_zp_ks)\n",
    "\n",
    "df.corr()\n",
    "\n"
   ]
  },
  {
   "cell_type": "code",
   "execution_count": null,
   "metadata": {},
   "outputs": [],
   "source": []
  }
 ],
 "metadata": {
  "kernelspec": {
   "display_name": "Python 3",
   "language": "python",
   "name": "python3"
  },
  "language_info": {
   "codemirror_mode": {
    "name": "ipython",
    "version": 3
   },
   "file_extension": ".py",
   "mimetype": "text/x-python",
   "name": "python",
   "nbconvert_exporter": "python",
   "pygments_lexer": "ipython3",
   "version": "3.7.6"
  }
 },
 "nbformat": 4,
 "nbformat_minor": 4
}
